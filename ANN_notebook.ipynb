{
 "cells": [
  {
   "cell_type": "code",
   "execution_count": 1,
   "metadata": {},
   "outputs": [],
   "source": [
    "import numpy as np\n",
    "import matplotlib.pyplot as plt\n",
    "import pandas as pd\n",
    "import warnings\n",
    "import time\n",
    "warnings.filterwarnings('ignore');\n",
    "import os\n",
    "import sys"
   ]
  },
  {
   "cell_type": "code",
   "execution_count": 2,
   "metadata": {},
   "outputs": [],
   "source": [
    "os.chdir(\"C:/Users/Hilak/Desktop/INTERESTS/Machine Learning A-Z Template Folder/Part 3 - Classification/Section 14 - Logistic Regression\");\n",
    "training_set = pd.read_csv(\"Social_Network_Ads.csv\");\n",
    "X = training_set.iloc[:, 1:4].values\n",
    "y = training_set.iloc[:, 4].values\n",
    "from sklearn.preprocessing import LabelEncoder, OneHotEncoder\n",
    "le_x = LabelEncoder()\n",
    "X[:,0] = le_x.fit_transform(X[:,0])\n",
    "ohe = OneHotEncoder(categorical_features = [0])\n",
    "X = ohe.fit_transform(X).toarray()\n",
    "from sklearn.preprocessing import StandardScaler\n",
    "ss = StandardScaler()\n",
    "X[:,2:4] = ss.fit_transform(X[:, 2:4])\n",
    "from sklearn.model_selection import train_test_split\n",
    "X_train, X_test, y_train, y_test = train_test_split(X,y,test_size=0.3)\n",
    "X_train = X_train.T\n",
    "X_test = X_test.T"
   ]
  },
  {
   "cell_type": "code",
   "execution_count": 3,
   "metadata": {},
   "outputs": [],
   "source": [
    "# Alternate Dataset for test purposes. Not used in the example shown\n",
    "# os.chdir(\"C:\\\\Users\\\\Hilak\\\\Desktop\\\\INTERESTS\\\\Machine Learning A-Z Template Folder\\\\Part 8 - Deep Learning\\\\Section 39 - Artificial Neural Networks (ANN)\");\n",
    "# dataset = pd.read_csv('Churn_Modelling.csv')\n",
    "# X = dataset.iloc[:, 3:13].values\n",
    "# y = dataset.iloc[:, 13].values\n",
    "\n",
    "# # Encoding categorical data\n",
    "# from sklearn.preprocessing import LabelEncoder, OneHotEncoder\n",
    "# labelencoder_X_1 = LabelEncoder()\n",
    "# X[:, 1] = labelencoder_X_1.fit_transform(X[:, 1])\n",
    "# labelencoder_X_2 = LabelEncoder()\n",
    "# X[:, 2] = labelencoder_X_2.fit_transform(X[:, 2])\n",
    "# onehotencoder = OneHotEncoder(categorical_features = [1])\n",
    "# X = onehotencoder.fit_transform(X).toarray()\n",
    "# X = X[:, 1:]\n",
    "\n",
    "# # Splitting the dataset into the Training set and Test set\n",
    "# from sklearn.model_selection import train_test_split\n",
    "# X_train, X_test, y_train, y_test = train_test_split(X, y, test_size = 0.2)\n",
    "# X_test, X_CV, y_test, y_CV = train_test_split(X, y, test_size = 0.5)\n",
    "\n",
    "# # Feature Scaling\n",
    "# from sklearn.preprocessing import StandardScaler\n",
    "# sc = StandardScaler()\n",
    "# X_train = sc.fit_transform(X_train)\n",
    "# X_test = sc.transform(X_test)\n",
    "\n",
    "# X_train = X_train.T\n",
    "# X_test = X_test.T\n",
    "# X_CV = X_CV.T"
   ]
  },
  {
   "cell_type": "code",
   "execution_count": 4,
   "metadata": {},
   "outputs": [],
   "source": [
    "def sigmoid(z) : \n",
    "    return 1./(1 + np.exp(-z))\n",
    "def sigmoid_prime(z) :\n",
    "    return sigmoid(z)*(1-sigmoid(z))\n",
    "def ReLU(z) : \n",
    "    return (z*(z > 0))\n",
    "def ReLU_prime(z) :\n",
    "    return 1*(z>=0)\n",
    "def lReLU(z) : \n",
    "    return np.maximum(z/100,z)\n",
    "def lReLU_prime(z) :\n",
    "    z = 1*(z>=0)\n",
    "    z[z==0] = 1/100\n",
    "    return z\n",
    "def tanh(z) : \n",
    "    return np.tanh(z)\n",
    "def tanh_prime(z) : \n",
    "    return (1-tanh(z)**2)\n",
    "PHI = {'sigmoid':sigmoid, 'relu':ReLU, 'lrelu':lReLU, 'tanh':tanh}\n",
    "PHI_PRIME = {'sigmoid':sigmoid_prime, 'relu':ReLU_prime, 'lrelu':lReLU_prime, 'tanh':tanh_prime}\n",
    "class NeuralNet : \n",
    "    def __init__(self, layers, X, y, ac_funcs, init_method='gaussian', loss_func='b_ce', W=np.array([]), B=np.array([])) : \n",
    "        self.layers = layers\n",
    "        self.W = None\n",
    "        self.B = None\n",
    "        self.m = X.shape[1]\n",
    "        self.n = [X.shape[0], *layers]\n",
    "        self.X = X\n",
    "        self.y = y\n",
    "        self.cost = []\n",
    "        self.acc = 0\n",
    "        self.ac_funcs = ac_funcs\n",
    "        self.loss = loss_func\n",
    "        if len(W) and len(B) :\n",
    "            self.W = W\n",
    "            self.B = B\n",
    "        else : \n",
    "            if init_method=='gaussian': \n",
    "                self.W = [np.random.randn(self.n[nl], self.n[nl-1]) for nl in range(1,len(self.n))]\n",
    "                self.B = [np.zeros((nl,1), 'float32') for nl in self.layers]\n",
    "            elif init_method == 'random':\n",
    "                self.W = [np.random.rand(self.n[nl], self.n[nl-1]) for nl in range(1,len(self.n))]\n",
    "                self.B = [np.random.rand(nl,1) for nl in self.layers]\n",
    "            elif init_method == 'zeros':\n",
    "                self.W = [np.zeros((self.n[nl], self.n[nl-1]), 'float32') for nl in range(1,len(self.n))]\n",
    "                self.B = [np.zeros((nl,1), 'float32') for nl in self.layers]\n",
    "    \n",
    "    def startTraining(self, epochs, alpha, _lambda, keep_prob=0.5, interval=100):\n",
    "        start = time.time()\n",
    "        for i in range(epochs+1) : \n",
    "            z,a = self._feedForward(keep_prob)\n",
    "            delta = self._cost_derivative(a[-1])\n",
    "            for l in range(1,len(z)) : \n",
    "                delta_w = np.dot(delta, a[-l-1].T) + (_lambda)*self.W[-l]\n",
    "                delta_b = np.dot(delta, np.ones((self.m,1), 'int32'))\n",
    "                self.W[-l] = self.W[-l] - (alpha/self.m)*delta_w\n",
    "                self.B[-l] = self.B[-l] - (alpha/self.m)*delta_b\n",
    "                delta = np.dot(self.W[-l].T, delta)*PHI_PRIME[self.ac_funcs[-l-1]](z[-l-1])\n",
    "            if not i%interval :\n",
    "                aa = self.predict(self.X)\n",
    "                aa = aa > 0.5\n",
    "                self.acc = sum(sum(aa == self.y)) / self.m\n",
    "                cost_val = self._cost_func(a[-1], _lambda)\n",
    "                self.cost.append(cost_val)\n",
    "            sys.stdout.write(f'\\rEpoch[{i}] : Cost = {cost_val:.2f} ; Acc = {(self.acc*100):.2f}% ; Time Taken = {(time.time()-start):.2f}s')\n",
    "        print('\\n')\n",
    "        return None\n",
    "    \n",
    "    def predict(self, X_test) : \n",
    "        a = PHI[self.ac_funcs[0]](np.dot(self.W[0], X_test) + self.B[0])\n",
    "        for l in range(1,len(self.layers)):\n",
    "            a = PHI[self.ac_funcs[l]](np.dot(self.W[l], a) + self.B[l])\n",
    "        return a\n",
    "            \n",
    "    \n",
    "    def _feedForward(self, keep_prob):\n",
    "        z = [];a = []\n",
    "        z.append(np.dot(self.W[0], self.X) + self.B[0])\n",
    "        a.append(PHI[self.ac_funcs[0]](z[0]))\n",
    "        for l in range(1,len(self.layers)):\n",
    "            z.append(np.dot(self.W[l], a[l-1]) + self.B[l])\n",
    "            # a.append(PHI[self.ac_funcs[l]](z[l]))\n",
    "            _a = PHI[self.ac_funcs[l]](z[l])\n",
    "            a.append( ((np.random.rand(*_a.shape) < keep_prob)*_a)/keep_prob )\n",
    "        return z,a\n",
    "    \n",
    "    def _cost_func(self, a, _lambda):\n",
    "        return ( (-1/self.m)*np.sum(np.nan_to_num(self.y*np.log(a) + (1-self.y)*np.log(1-a))) + (_lambda/(2*self.m))*np.sum([np.sum(i**2) for i in self.W]) )\n",
    "\n",
    "    def _cost_derivative(self, a) : \n",
    "        return (a-self.y)\n",
    "   \n",
    "    @property\n",
    "    def summary(self) :\n",
    "        return self.cost, self.acc, self.W,self.B\n",
    "    def __repr__(self) : \n",
    "        return f'<UNDER CONST>'"
   ]
  },
  {
   "cell_type": "code",
   "execution_count": 5,
   "metadata": {
    "scrolled": true
   },
   "outputs": [
    {
     "name": "stdout",
     "output_type": "stream",
     "text": [
      "Epoch[5000] : Cost = inf ; Acc = 90.71% ; Time Taken = 23.11s\n",
      "\n",
      "Test set Accuracy ( r-t-s ) : 94.16666666666667%\n"
     ]
    }
   ],
   "source": [
    "neural_net_sigmoid = NeuralNet([64,32,1], X_train, y_train, ac_funcs = ['relu','tanh','sigmoid'])\n",
    "neural_net_sigmoid.startTraining(5000, 0.5, 0.5, 0.45, 100)\n",
    "preds = neural_net_sigmoid.predict(X_test)\n",
    "preds = preds > 0.5\n",
    "acc = (sum(sum(preds == y_test)) / y_test.size)*100\n",
    "print(f'Test set Accuracy ( r-t-s ) : {acc}%')"
   ]
  },
  {
   "cell_type": "code",
   "execution_count": 6,
   "metadata": {},
   "outputs": [
    {
     "data": {
      "image/png": "[encoded data removed]",
      "text/plain": [
       "<Figure size 432x288 with 1 Axes>"
      ]
     },
     "metadata": {},
     "output_type": "display_data"
    }
   ],
   "source": [
    "sigmoid_summary = neural_net_sigmoid.summary\n",
    "plt.plot(range(len(sigmoid_summary[0])), sigmoid_summary[0], label='Sigmoid Cost')\n",
    "plt.title('Cost')\n",
    "plt.show()"
   ]
  },
  {
   "cell_type": "code",
   "execution_count": 7,
   "metadata": {},
   "outputs": [
    {
     "name": "stderr",
     "output_type": "stream",
     "text": [
      "Using TensorFlow backend.\n"
     ]
    },
    {
     "name": "stdout",
     "output_type": "stream",
     "text": [
      "Epoch 1/10\n",
      "280/280 [==============================] - 4s 15ms/step - loss: 0.6115 - acc: 0.7464\n",
      "Epoch 2/10\n",
      "280/280 [==============================] - 2s 6ms/step - loss: 0.3772 - acc: 0.8214\n",
      "Epoch 3/10\n",
      "280/280 [==============================] - 2s 6ms/step - loss: 0.3372 - acc: 0.8536\n",
      "Epoch 4/10\n",
      "280/280 [==============================] - 1s 5ms/step - loss: 0.3187 - acc: 0.8750\n",
      "Epoch 5/10\n",
      "280/280 [==============================] - 1s 4ms/step - loss: 0.3060 - acc: 0.8786A: 1s - loss: \n",
      "Epoch 6/10\n",
      "280/280 [==============================] - 1s 3ms/step - loss: 0.2951 - acc: 0.8643\n",
      "Epoch 7/10\n",
      "280/280 [==============================] - 1s 3ms/step - loss: 0.2892 - acc: 0.8714\n",
      "Epoch 8/10\n",
      "280/280 [==============================] - 1s 2ms/step - loss: 0.2799 - acc: 0.8857\n",
      "Epoch 9/10\n",
      "280/280 [==============================] - 1s 2ms/step - loss: 0.2737 - acc: 0.8857\n",
      "Epoch 10/10\n",
      "280/280 [==============================] - 1s 2ms/step - loss: 0.2724 - acc: 0.8893\n",
      "Test set Accuracy : 90.0%\n"
     ]
    }
   ],
   "source": [
    "from keras.models import Sequential\n",
    "from keras.layers import Dense\n",
    "X_train, X_test = X_train.T, X_test.T\n",
    "classifier = Sequential()\n",
    "classifier.add(Dense(input_dim=4, units = 32, kernel_initializer=\"uniform\", activation=\"relu\"))\n",
    "classifier.add(Dense(units = 16, kernel_initializer = \"uniform\", activation=\"relu\"))\n",
    "# classifier.add(Dense(units = 16, kernel_initializer = \"uniform\", activation=\"tanh\"))\n",
    "classifier.add(Dense(units = 1, kernel_initializer = \"uniform\", activation = \"sigmoid\"))\n",
    "classifier.compile(optimizer = \"adam\", loss = \"binary_crossentropy\", metrics = [\"accuracy\"])\n",
    "classifier.fit(X_train, y_train, batch_size = 1, epochs = 10)\n",
    "y_pred = classifier.predict(X_test)\n",
    "y_pred = 1*(y_pred > 0.5)\n",
    "test_acc = sum(sum(y_pred.T == y_test)) / y_test.size\n",
    "print(f\"Test set Accuracy : {test_acc*100}%\")\n",
    "X_train, X_test = X_train.T, X_test.T"
   ]
  }
 ],
 "metadata": {
  "kernelspec": {
   "display_name": "Python 3",
   "language": "python",
   "name": "python3"
  },
  "language_info": {
   "codemirror_mode": {
    "name": "ipython",
    "version": 3
   },
   "file_extension": ".py",
   "mimetype": "text/x-python",
   "name": "python",
   "nbconvert_exporter": "python",
   "pygments_lexer": "ipython3",
   "version": "3.6.5"
  }
 },
 "nbformat": 4,
 "nbformat_minor": 2
}
