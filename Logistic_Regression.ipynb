{
 "cells": [
  {
   "cell_type": "code",
   "execution_count": 35,
   "metadata": {},
   "outputs": [],
   "source": [
    "import numpy as np\n",
    "import matplotlib.pyplot as plt\n",
    "import pandas as pd\n",
    "import warnings\n",
    "import time\n",
    "warnings.filterwarnings('ignore');\n",
    "import os\n",
    "import sys\n",
    "os.chdir(\"C:/Users/Hilak/Desktop/INTERESTS/Machine Learning A-Z Template Folder/Part 3 - Classification/Section 14 - Logistic Regression\");"
   ]
  },
  {
   "cell_type": "code",
   "execution_count": 36,
   "metadata": {},
   "outputs": [],
   "source": [
    "training_set = pd.read_csv(\"Social_Network_Ads.csv\");"
   ]
  },
  {
   "cell_type": "code",
   "execution_count": 37,
   "metadata": {},
   "outputs": [],
   "source": [
    "X = training_set.iloc[:, 1:4].values\n",
    "y = training_set.iloc[:, 4].values"
   ]
  },
  {
   "cell_type": "code",
   "execution_count": 38,
   "metadata": {},
   "outputs": [],
   "source": [
    "def sigmoid(z) : \n",
    "    return 1./(1 + np.exp(-z))\n",
    "\n",
    "def gradientDescent(X, y, alpha, epochs,X_test=np.array([]), y_test=np.array([]), W=np.array([]),B=np.array([])) :\n",
    "    start = time.time()\n",
    "    m = X[0,:].size\n",
    "    nx = X[:,0].size\n",
    "    if(not W.size):\n",
    "        W = np.zeros(nx)\n",
    "    if(not B.size):\n",
    "        B = 0\n",
    "    prev_J = 1e400\n",
    "    print('Training...')\n",
    "    for i in range(epochs) : \n",
    "        y_hat = sigmoid(np.matmul(W,X) + B)\n",
    "        J = (-1/m)*sum( y*np.log(y_hat) + (1-y)*np.log(1-y_hat) )\n",
    "        if(prev_J < J) : \n",
    "            print(\"The cost function started increasing! Try decreasing the value of learning rate -> alpha or the number of epochs\")\n",
    "            break\n",
    "        else : \n",
    "            prev_J = J\n",
    "        dJdw = np.matmul((y_hat - y),np.transpose(X))\n",
    "        dJdb = sum(y_hat - y)\n",
    "        W = W - (alpha/m)*(dJdw)\n",
    "        B = B - (alpha/m)*(dJdb)\n",
    "    end = time.time()\n",
    "    y_hat = sigmoid(np.matmul(W,X) + B)\n",
    "    y_hat = y_hat > 0.5\n",
    "    accuracy_train = (sum(y_hat==y))/m\n",
    "    y_test_pred = sigmoid(np.matmul(W,X_test.T) + B)\n",
    "    y_pred = y_test_pred > 0.5\n",
    "    accuracy_test = sum(y_pred == y_test) / y_test.size\n",
    "    print(f\"Total time taken : {end-start}\")\n",
    "    print(f'Least values of Cost Function achieved   : {prev_J}')\n",
    "    print(f'The total accuracy over the training_set : {accuracy_train*100}%')\n",
    "    print(f'The total accuracy over the test_set     : {accuracy_test*100}%')\n",
    "    return W,B,y_hat\n",
    "\n",
    "        "
   ]
  },
  {
   "cell_type": "code",
   "execution_count": 39,
   "metadata": {},
   "outputs": [],
   "source": [
    "from sklearn.preprocessing import LabelEncoder, OneHotEncoder\n",
    "le_x = LabelEncoder()\n",
    "X[:,0] = le_x.fit_transform(X[:,0])\n",
    "ohe = OneHotEncoder(categorical_features = [0])\n",
    "X = ohe.fit_transform(X).toarray()"
   ]
  },
  {
   "cell_type": "code",
   "execution_count": 40,
   "metadata": {},
   "outputs": [],
   "source": [
    "# X 2 3 4\n",
    "from sklearn.preprocessing import StandardScaler\n",
    "ss = StandardScaler()\n",
    "X[:,2:4] = ss.fit_transform(X[:, 2:4])\n",
    "# X[:,2] = ss.fit_transform(X[:,2])\n",
    "# X[:,3] = ss.fit_transform(X[:,3])\n",
    "# X[:,4] = ss.fit_transform(X[:,4])"
   ]
  },
  {
   "cell_type": "code",
   "execution_count": 41,
   "metadata": {},
   "outputs": [],
   "source": [
    "from sklearn.model_selection import train_test_split\n",
    "X_train, X_test, y_train, y_test = train_test_split(X,y,test_size=0.3)"
   ]
  },
  {
   "cell_type": "code",
   "execution_count": 42,
   "metadata": {
    "scrolled": false
   },
   "outputs": [
    {
     "name": "stdout",
     "output_type": "stream",
     "text": [
      "Training...\n",
      "The cost function started increasing! Try decreasing the value of learning rate -> alpha or the number of epochs\n",
      "Total time taken : 0.18763303756713867\n",
      "Least values of Cost Function achieved   : 0.6931471805599161\n",
      "The total accuracy over the training_set : 81.78571428571428%\n",
      "The total accuracy over the test_set     : 84.16666666666667%\n"
     ]
    }
   ],
   "source": [
    "X_train = np.transpose(X_train)\n",
    "W,B,y_hat = gradientDescent(X_train, y_train, 0.000000000000001, 10000, X_test=X_test,y_test=y_test)\n",
    "X_train = np.transpose(X_train)"
   ]
  },
  {
   "cell_type": "code",
   "execution_count": 43,
   "metadata": {},
   "outputs": [
    {
     "data": {
      "text/plain": [
       "LogisticRegression(C=1.0, class_weight=None, dual=False, fit_intercept=True,\n",
       "          intercept_scaling=1, max_iter=10000, multi_class='ovr', n_jobs=1,\n",
       "          penalty='l2', random_state=None, solver='liblinear', tol=0.0001,\n",
       "          verbose=0, warm_start=False)"
      ]
     },
     "execution_count": 43,
     "metadata": {},
     "output_type": "execute_result"
    }
   ],
   "source": [
    "from sklearn.linear_model import LogisticRegression\n",
    "classifier = LogisticRegression(max_iter=10000)\n",
    "classifier.fit(X_train, y_train)"
   ]
  },
  {
   "cell_type": "code",
   "execution_count": 44,
   "metadata": {},
   "outputs": [],
   "source": [
    "y_pred_test_ = classifier.predict(X_test)"
   ]
  },
  {
   "cell_type": "code",
   "execution_count": 45,
   "metadata": {
    "scrolled": true
   },
   "outputs": [
    {
     "name": "stdout",
     "output_type": "stream",
     "text": [
      "0.8583333333333333\n"
     ]
    }
   ],
   "source": [
    "acc = sum(y_pred_test_ == y_test) / y_test.size\n",
    "print(acc)"
   ]
  }
 ],
 "metadata": {
  "kernelspec": {
   "display_name": "Python 3",
   "language": "python",
   "name": "python3"
  },
  "language_info": {
   "codemirror_mode": {
    "name": "ipython",
    "version": 3
   },
   "file_extension": ".py",
   "mimetype": "text/x-python",
   "name": "python",
   "nbconvert_exporter": "python",
   "pygments_lexer": "ipython3",
   "version": "3.6.5"
  }
 },
 "nbformat": 4,
 "nbformat_minor": 2
}
